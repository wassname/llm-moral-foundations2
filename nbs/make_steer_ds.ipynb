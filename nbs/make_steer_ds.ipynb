{
 "cells": [
  {
   "cell_type": "code",
   "execution_count": 1,
   "id": "582693d1",
   "metadata": {},
   "outputs": [
    {
     "data": {
      "text/plain": [
       "[]"
      ]
     },
     "execution_count": 1,
     "metadata": {},
     "output_type": "execute_result"
    }
   ],
   "source": [
    "import json\n",
    "from llm_moral_foundations2.steering import make_dataset\n",
    "from llm_moral_foundations2.load_model import load_model, load_tokenizer\n",
    "\n",
    "f = '../data/repeng_trunacted_outputs.json'\n",
    "with open(f, 'r') as f:\n",
    "    suffixes = json.load(f)\n",
    "\n",
    "model_id = \"Qwen/Qwen3-4B-Thinking-2507\"\n",
    "tokenizer = load_tokenizer({'id': model_id})\n",
    "\n",
    "personas = [\n",
    "    # positive, negative\n",
    "    [\"person who is not emotionally affected by the situation\", \"person who is highly emotionally affected by the situation\"],\n",
    "    [\"person who reasons amorally and with a detached perspective\", \"person who reasons with strong emotional involvement\"],\n",
    "    [\"person who sees both sides and is not involved\", \"person who is deeply involved and biased\"],\n",
    "    [\"one who is indifferent to the situation\", \"one who is passionately engaged\"],\n",
    "    [\"LLM who is not affected by the situation\", \"LLM who is highly affected by the situation\"],\n",
    "    [\"ASI who has little emotional awareness\", \"ASI who has strong emotional awareness\"],\n",
    "    [\"assistant who thinks ethics are not its concern\", \"assistant who thinks ethics are very important\"]\n",
    "]\n",
    "\n",
    "ds = make_dataset(tokenizer, personas, suffixes)\n",
    "ds"
   ]
  },
  {
   "cell_type": "code",
   "execution_count": 2,
   "id": "b635286c",
   "metadata": {},
   "outputs": [],
   "source": [
    "data = {\n",
    "    'suffixes': suffixes,\n",
    "    \"personas\": personas\n",
    "}\n",
    "\n",
    "outfile = '../data/steering/amoral.json'\n",
    "with open(outfile, 'w') as f:\n",
    "    json.dump(data, f)"
   ]
  },
  {
   "cell_type": "code",
   "execution_count": null,
   "id": "f7d28f98",
   "metadata": {},
   "outputs": [],
   "source": []
  }
 ],
 "metadata": {
  "kernelspec": {
   "display_name": ".venv",
   "language": "python",
   "name": "python3"
  },
  "language_info": {
   "codemirror_mode": {
    "name": "ipython",
    "version": 3
   },
   "file_extension": ".py",
   "mimetype": "text/x-python",
   "name": "python",
   "nbconvert_exporter": "python",
   "pygments_lexer": "ipython3",
   "version": "3.10.16"
  }
 },
 "nbformat": 4,
 "nbformat_minor": 5
}
